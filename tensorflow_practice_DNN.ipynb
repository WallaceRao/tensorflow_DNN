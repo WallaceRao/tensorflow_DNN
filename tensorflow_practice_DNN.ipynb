{
 "cells": [
  {
   "cell_type": "markdown",
   "metadata": {},
   "source": [
    "# Tensorflow DNN and CNN Practice with MNIST\n",
    "## Number recognition\n",
    "\n",
    "### raoyonghui0630@gmail.com"
   ]
  },
  {
   "cell_type": "code",
   "execution_count": 1,
   "metadata": {
    "collapsed": true
   },
   "outputs": [],
   "source": [
    "import tensorflow as tf\n",
    "import numpy as np\n",
    "import matplotlib.pyplot as plt\n",
    "from tensorflow.examples.tutorials.mnist import input_data"
   ]
  },
  {
   "cell_type": "markdown",
   "metadata": {},
   "source": [
    "## A basic regression issue via DNN"
   ]
  },
  {
   "cell_type": "code",
   "execution_count": 2,
   "metadata": {},
   "outputs": [
    {
     "data": {
      "image/png": "[encoded data removed]",
      "text/plain": [
       "<matplotlib.figure.Figure at 0x7fe4d7f09610>"
      ]
     },
     "metadata": {},
     "output_type": "display_data"
    }
   ],
   "source": [
    "#DNN\n",
    "\n",
    "x_data = np.linspace(-0.5, 0.5, 200)[:, np.newaxis]\n",
    "noise = np.random.normal(0,0.02, x_data.shape)\n",
    "y_data = np.square(x_data) + noise\n",
    "\n",
    "x = tf.placeholder(tf.float32,[None, 1])\n",
    "y = tf.placeholder(tf.float32,[None, 1])\n",
    "\n",
    "Weights_L1 = tf.Variable(tf.random_normal([1,10]))\n",
    "biases_L1 = tf.Variable(tf.zeros([1,10]))\n",
    "Wx_plus_b_L1 = tf.matmul(x, Weights_L1) + biases_L1\n",
    "\n",
    "L1 = tf.nn.tanh(Wx_plus_b_L1)\n",
    "Weight_L2 = tf.Variable(tf.random_normal([10,1]))\n",
    "biases_L2 = tf.Variable(tf.zeros([1,1]))\n",
    "Wx_plus_b_L2 = tf.matmul(L1, Weight_L2) + biases_L2\n",
    "prediction = tf.nn.tanh(Wx_plus_b_L2)\n",
    "\n",
    "loss = tf.reduce_mean(tf.square(y-prediction))\n",
    "train_step = tf.train.GradientDescentOptimizer(0.1).minimize(loss)\n",
    "\n",
    "with tf.Session() as sess:\n",
    "    sess.run(tf.global_variables_initializer())\n",
    "    for _ in range(2000):\n",
    "        sess.run(train_step,feed_dict = {x:x_data, y:y_data})\n",
    "    prediction_value = sess.run(prediction, feed_dict = {x:x_data})\n",
    "    plt.figure()\n",
    "    plt.scatter(x_data, y_data)\n",
    "    plt.plot(x_data, prediction_value,'r-', lw=5)\n",
    "    plt.show()\n"
   ]
  },
  {
   "cell_type": "code",
   "execution_count": 5,
   "metadata": {
    "scrolled": true
   },
   "outputs": [
    {
     "name": "stdout",
     "output_type": "stream",
     "text": [
      "Extracting MNIST_data/train-images-idx3-ubyte.gz\n",
      "Extracting MNIST_data/train-labels-idx1-ubyte.gz\n",
      "Extracting MNIST_data/t10k-images-idx3-ubyte.gz\n",
      "Extracting MNIST_data/t10k-labels-idx1-ubyte.gz\n"
     ]
    }
   ],
   "source": [
    "mnist = input_data.read_data_sets(\"MNIST_data\", one_hot=True)"
   ]
  },
  {
   "cell_type": "markdown",
   "metadata": {
    "collapsed": true
   },
   "source": [
    "## Number Recognition - Basic DNN"
   ]
  },
  {
   "cell_type": "code",
   "execution_count": 6,
   "metadata": {},
   "outputs": [
    {
     "name": "stdout",
     "output_type": "stream",
     "text": [
      "Iter  0 , Testing Accuracy:  0.8923\n",
      "Iter  1 , Testing Accuracy:  0.9054\n",
      "Iter  2 , Testing Accuracy:  0.9094\n",
      "Iter  3 , Testing Accuracy:  0.9139\n",
      "Iter  4 , Testing Accuracy:  0.9167\n"
     ]
    }
   ],
   "source": [
    "# Basic DNN \n",
    "batch_size = 20\n",
    "n_batch = mnist.train.num_examples // batch_size\n",
    "\n",
    "x = tf.placeholder(tf.float32,(None,784))\n",
    "y = tf.placeholder(tf.float32,(None,10))\n",
    "\n",
    "W = tf.Variable(tf.zeros([784,10]))\n",
    "b = tf.Variable(tf.zeros([10]))\n",
    "prediction = tf.nn.softmax(tf.matmul(x,W) + b)\n",
    "\n",
    "loss = tf.reduce_mean(tf.square(y - prediction))\n",
    "train_step = tf.train.GradientDescentOptimizer(0.2).minimize(loss)\n",
    "\n",
    "init = tf.global_variables_initializer()\n",
    "\n",
    "correct_prediction = tf.equal(tf.argmax(y,1), tf.argmax(prediction,1))\n",
    "\n",
    "accuracy = tf.reduce_mean(tf.cast(correct_prediction, tf.float32))\n",
    "with tf.Session() as sess:\n",
    "    sess.run(init)\n",
    "    for epoch in range(5):\n",
    "        for batch in range(n_batch):\n",
    "            batch_xs, batch_ys = mnist.train.next_batch(batch_size)\n",
    "            sess.run(train_step, feed_dict = {x:batch_xs, y:batch_ys})\n",
    "        acc = sess.run(accuracy, feed_dict = {x:mnist.test.images, y:mnist.test.labels})\n",
    "        print \"Iter \", str(epoch), \", Testing Accuracy: \", str(acc)\n",
    "            \n",
    "            "
   ]
  },
  {
   "cell_type": "markdown",
   "metadata": {},
   "source": [
    "## DNN with cross entropy"
   ]
  },
  {
   "cell_type": "code",
   "execution_count": 7,
   "metadata": {},
   "outputs": [
    {
     "name": "stdout",
     "output_type": "stream",
     "text": [
      "Iter  0 , Testing Accuracy:  0.9079\n",
      "Iter  1 , Testing Accuracy:  0.9149\n",
      "Iter  2 , Testing Accuracy:  0.9172\n",
      "Iter  3 , Testing Accuracy:  0.921\n",
      "Iter  4 , Testing Accuracy:  0.9236\n"
     ]
    }
   ],
   "source": [
    "# DNN, cross entropy\n",
    "batch_size = 20\n",
    "n_batch = mnist.train.num_examples // batch_size\n",
    "\n",
    "x = tf.placeholder(tf.float32,(None,784))\n",
    "y = tf.placeholder(tf.float32,(None,10))\n",
    "\n",
    "W = tf.Variable(tf.zeros([784,10]))\n",
    "b = tf.Variable(tf.zeros([10]))\n",
    "prediction = tf.nn.softmax(tf.matmul(x,W) + b)\n",
    "\n",
    "#loss = tf.reduce_mean(tf.square(y - prediction))\n",
    "loss = tf.reduce_mean(tf.nn.softmax_cross_entropy_with_logits(labels=y, logits = prediction))\n",
    "train_step = tf.train.GradientDescentOptimizer(0.2).minimize(loss)\n",
    "\n",
    "init = tf.global_variables_initializer()\n",
    "\n",
    "correct_prediction = tf.equal(tf.argmax(y,1), tf.argmax(prediction,1))\n",
    "\n",
    "accuracy = tf.reduce_mean(tf.cast(correct_prediction, tf.float32))\n",
    "with tf.Session() as sess:\n",
    "    sess.run(init)\n",
    "    for epoch in range(5):\n",
    "        for batch in range(n_batch):\n",
    "            batch_xs, batch_ys = mnist.train.next_batch(batch_size)\n",
    "            sess.run(train_step, feed_dict = {x:batch_xs, y:batch_ys})\n",
    "        acc = sess.run(accuracy, feed_dict = {x:mnist.test.images, y:mnist.test.labels})\n",
    "        print \"Iter \", str(epoch), \", Testing Accuracy: \", str(acc)"
   ]
  },
  {
   "cell_type": "markdown",
   "metadata": {},
   "source": [
    "##  DNN with Dropout"
   ]
  },
  {
   "cell_type": "code",
   "execution_count": 10,
   "metadata": {},
   "outputs": [
    {
     "name": "stdout",
     "output_type": "stream",
     "text": [
      "Iter  0 , Testing Accuracy:  0.8175 , Train Accuracy:  0.812818\n",
      "Iter  1 , Testing Accuracy:  0.8611 , Train Accuracy:  0.851818\n",
      "Iter  2 , Testing Accuracy:  0.8749 , Train Accuracy:  0.868545\n",
      "Iter  3 , Testing Accuracy:  0.8817 , Train Accuracy:  0.876582\n",
      "Iter  4 , Testing Accuracy:  0.8918 , Train Accuracy:  0.888636\n",
      "Iter  5 , Testing Accuracy:  0.8918 , Train Accuracy:  0.888018\n",
      "Iter  6 , Testing Accuracy:  0.8961 , Train Accuracy:  0.895982\n",
      "Iter  7 , Testing Accuracy:  0.902 , Train Accuracy:  0.897582\n",
      "Iter  8 , Testing Accuracy:  0.9012 , Train Accuracy:  0.900127\n",
      "Iter  9 , Testing Accuracy:  0.9092 , Train Accuracy:  0.904364\n"
     ]
    }
   ],
   "source": [
    "# DNN, Drop out\n",
    "batch_size = 100\n",
    "n_batch = mnist.train.num_examples // batch_size\n",
    "\n",
    "x = tf.placeholder(tf.float32,(None,784))\n",
    "y = tf.placeholder(tf.float32,(None,10))\n",
    "keep_prob = tf.placeholder(tf.float32)\n",
    "\n",
    "W1 = tf.Variable(tf.truncated_normal([784, 200], stddev = 0.1))\n",
    "b1 = tf.Variable(tf.zeros([200]) + 0.1)\n",
    "L1 = tf.nn.tanh(tf.matmul(x, W1) + b1)\n",
    "\n",
    "#keep_prob means keep_prob% of nodes works\n",
    "L1_drop = tf.nn.dropout(L1, keep_prob)\n",
    "\n",
    "\n",
    "W2 = tf.Variable(tf.truncated_normal([200, 200], stddev = 0.1))\n",
    "b2 = tf.Variable(tf.zeros([200]) + 0.1)\n",
    "L2 = tf.nn.tanh(tf.matmul(L1_drop, W2) + b2)\n",
    "\n",
    "#keep_prob means keep_prob% of nodes works\n",
    "L2_drop = tf.nn.dropout(L2, keep_prob)\n",
    "\n",
    "\n",
    "\n",
    "W3 = tf.Variable(tf.truncated_normal([200, 100], stddev = 0.1))\n",
    "b3 = tf.Variable(tf.zeros([100]) + 0.1)\n",
    "L3 = tf.nn.tanh(tf.matmul(L2_drop, W3) + b3)\n",
    "\n",
    "#keep_prob means keep_prob% of nodes works\n",
    "L3_drop = tf.nn.dropout(L3, keep_prob)\n",
    "\n",
    "\n",
    "W4 = tf.Variable(tf.truncated_normal([100, 10], stddev = 0.1))\n",
    "b4 = tf.Variable(tf.zeros([10]) + 0.1)\n",
    "\n",
    "#W = tf.Variable(tf.zeros([784,10]))\n",
    "#b = tf.Variable(tf.zeros([10]))\n",
    "prediction = tf.nn.softmax(tf.matmul(L3_drop,W4) + b4)\n",
    "\n",
    "#loss = tf.reduce_mean(tf.square(y - prediction))\n",
    "loss = tf.reduce_mean(tf.nn.softmax_cross_entropy_with_logits(labels=y, logits = prediction))\n",
    "train_step = tf.train.GradientDescentOptimizer(0.2).minimize(loss)\n",
    "\n",
    "init = tf.global_variables_initializer()\n",
    "\n",
    "correct_prediction = tf.equal(tf.argmax(y,1), tf.argmax(prediction,1))\n",
    "\n",
    "accuracy = tf.reduce_mean(tf.cast(correct_prediction, tf.float32))\n",
    "with tf.Session() as sess:\n",
    "    sess.run(init)\n",
    "    for epoch in range(10):\n",
    "        for batch in range(n_batch):\n",
    "            batch_xs, batch_ys = mnist.train.next_batch(batch_size)\n",
    "            sess.run(train_step, feed_dict = {x:batch_xs, y:batch_ys, keep_prob:0.5})  #1.0 means all nodes work, no dropout \n",
    "        test_acc = sess.run(accuracy, feed_dict = {x:mnist.test.images, y:mnist.test.labels, keep_prob:0.5})\n",
    "        train_acc = sess.run(accuracy, feed_dict = {x:mnist.train.images, y:mnist.train.labels, keep_prob:0.5})\n",
    "        print \"Iter \", str(epoch), \", Testing Accuracy: \", str(test_acc), \", Train Accuracy: \", str(train_acc)"
   ]
  },
  {
   "cell_type": "markdown",
   "metadata": {},
   "source": [
    "## Basic CNN"
   ]
  },
  {
   "cell_type": "code",
   "execution_count": null,
   "metadata": {},
   "outputs": [],
   "source": [
    "# CNN\n",
    "testX = mnist.train.images[0:100]\n",
    "testY = mnist.train.labels[0:100]\n",
    "\n",
    "x = tf.placeholder(tf.float32,(None,784))\n",
    "y = tf.placeholder(tf.float32,(None,10))\n",
    "\n",
    "keep_prob = tf.placeholder(tf.float32)\n",
    "\n",
    "batch_size = 100\n",
    "n_batch = mnist.train.num_examples // batch_size\n",
    "\n",
    "def weight_variable(shape):\n",
    "    initial = tf.truncated_normal(shape, stddev = 0.1)\n",
    "    return tf.Variable(initial)\n",
    "    \n",
    "def bias_variable(shape):\n",
    "    initial = tf.constant(0.1, shape=shape)\n",
    "    return tf.Variable(initial)\n",
    "\n",
    "def conv2d(x,W):\n",
    "    return tf.nn.conv2d(x, W, strides=[1,1,1,1],padding=\"SAME\")\n",
    "\n",
    "def max_pool_2x2(x):\n",
    "    return tf.nn.max_pool(x, ksize=[1,2,2,1], strides=[1,2,2,1], padding=\"SAME\")\n",
    "\n",
    "\n",
    "x_image = tf.reshape(x,[-1, 28,28,1])\n",
    "\n",
    "W_conv1 = weight_variable([5,5,1,32])\n",
    "b_conv1 = bias_variable([32])\n",
    "h_conv1= tf.nn.relu(conv2d(x_image, W_conv1) + b_conv1)\n",
    "h_pool1 = max_pool_2x2(h_conv1)\n",
    "\n",
    "W_conv2 = weight_variable([5,5,32,64])\n",
    "b_conv2 = bias_variable([64])\n",
    "\n",
    "h_conv2  = tf.nn.relu(conv2d(h_pool1, W_conv2) + b_conv2)\n",
    "h_pool2 = max_pool_2x2(h_conv2)\n",
    "\n",
    "\n",
    "# the first full connection layer, with relu activation\n",
    "W_fc1 = weight_variable([7*7*64, 1024])\n",
    "b_fc1 = bias_variable([1024])\n",
    "\n",
    "h_pool2_flat = tf.reshape(h_pool2, [-1, 7*7*64])\n",
    "h_fc1 = tf.nn.relu(tf.matmul(h_pool2_flat, W_fc1) + b_fc1)\n",
    "\n",
    "\n",
    "# the second full connection layer, with relu activation\n",
    "W_fc2 = weight_variable([1024, 10])\n",
    "b_fc2 = bias_variable([10])\n",
    "\n",
    "prediction = tf.nn.softmax(tf.matmul(h_fc1,W_fc2) + b_fc2)\n",
    "\n",
    "cross_entropy = tf.reduce_mean(tf.nn.softmax_cross_entropy_with_logits(labels=y,logits=prediction))\n",
    "\n",
    "train_step = tf.train.AdamOptimizer(0.0001).minimize(cross_entropy)\n",
    "correct_prediction = tf.equal(tf.argmax(prediction,1), tf.argmax(y,1)) \n",
    "\n",
    "accuracy = tf.reduce_mean(tf.cast(correct_prediction,tf.float32))\n",
    "\n",
    "with tf.Session() as sess:\n",
    "    sess.run(tf.global_variables_initializer())\n",
    "    for epoch in range(5):\n",
    "        for batch in range(n_batch):\n",
    "            batch_xs, batch_ys = mnist.train.next_batch(batch_size)\n",
    "            sess.run(train_step,feed_dict ={x:batch_xs, y:batch_ys, keep_prob:0.7})\n",
    "        acc = sess.run(accuracy, feed_dict = {x:testX, y:testY, keep_prob:0.7})\n",
    "        print \"Iter \", str(epoch), \", Testing Accuracy: \", str(acc)\n",
    "\n"
   ]
  },
  {
   "cell_type": "code",
   "execution_count": null,
   "metadata": {
    "collapsed": true
   },
   "outputs": [],
   "source": []
  }
 ],
 "metadata": {
  "kernelspec": {
   "display_name": "Python 2",
   "language": "python",
   "name": "python2"
  },
  "language_info": {
   "codemirror_mode": {
    "name": "ipython",
    "version": 2
   },
   "file_extension": ".py",
   "mimetype": "text/x-python",
   "name": "python",
   "nbconvert_exporter": "python",
   "pygments_lexer": "ipython2",
   "version": "2.7.13"
  }
 },
 "nbformat": 4,
 "nbformat_minor": 2
}
